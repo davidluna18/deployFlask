{
 "cells": [
  {
   "cell_type": "code",
   "execution_count": 1,
   "id": "9960e015",
   "metadata": {},
   "outputs": [
    {
     "name": "stdout",
     "output_type": "stream",
     "text": [
      "El paciente corresponde a la clase Sano\n"
     ]
    },
    {
     "name": "stderr",
     "output_type": "stream",
     "text": [
      "  % Total    % Received % Xferd  Average Speed   Time    Time     Time  Current\n",
      "                                 Dload  Upload   Total   Spent    Left  Speed\n",
      "\n",
      "  0     0    0     0    0     0      0      0 --:--:-- --:--:-- --:--:--     0\n",
      "100    47    0     0  100    47      0    103 --:--:-- --:--:-- --:--:--   103\n",
      "100    87  100    40  100    47     88    103 --:--:-- --:--:-- --:--:--   192\n"
     ]
    }
   ],
   "source": [
    "!curl -d \"{\\\"Datos\\\":[[1, 85, 66, 29, 0, 26.6, 0.351, 31]]}\" -H \"Content-Type: application/json\" -X POST http://127.0.0.1:5000/predecir"
   ]
  },
  {
   "cell_type": "code",
   "execution_count": 2,
   "id": "4d321a12",
   "metadata": {},
   "outputs": [
    {
     "name": "stdout",
     "output_type": "stream",
     "text": [
      "El paciente corresponde a la clase Diabetes\n"
     ]
    },
    {
     "name": "stderr",
     "output_type": "stream",
     "text": [
      "  % Total    % Received % Xferd  Average Speed   Time    Time     Time  Current\n",
      "                                 Dload  Upload   Total   Spent    Left  Speed\n",
      "\n",
      "  0     0    0     0    0     0      0      0 --:--:-- --:--:-- --:--:--     0\n",
      "100    85  100    44  100    41   4707   4386 --:--:-- --:--:-- --:--:-- 10625\n"
     ]
    }
   ],
   "source": [
    "!curl -d \"{\\\"Datos\\\":[[6,148,72,35,0,33.6,0.627,50]]}\" -H \"Content-Type: application/json\" -X POST http://127.0.0.1:5000/predecir"
   ]
  },
  {
   "cell_type": "code",
   "execution_count": 3,
   "id": "6f70ca4e",
   "metadata": {},
   "outputs": [
    {
     "name": "stdout",
     "output_type": "stream",
     "text": [
      "El paciente corresponde a la clase Diabetes\n",
      "El paciente corresponde a la clase Sano\n"
     ]
    },
    {
     "name": "stderr",
     "output_type": "stream",
     "text": [
      "  % Total    % Received % Xferd  Average Speed   Time    Time     Time  Current\n",
      "                                 Dload  Upload   Total   Spent    Left  Speed\n",
      "\n",
      "  0     0    0     0    0     0      0      0 --:--:-- --:--:-- --:--:--     0\n",
      "100   161  100    84  100    77    863    791 --:--:-- --:--:-- --:--:--  1677\n"
     ]
    }
   ],
   "source": [
    "!curl -d \"{\\\"Datos\\\":[[6,148,72,35,0,33.6,0.627,50],[1, 85, 66, 29, 0, 26.6, 0.351, 31]]}\" -H \"Content-Type: application/json\" -X POST http://127.0.0.1:5000/predecir"
   ]
  },
  {
   "cell_type": "code",
   "execution_count": null,
   "id": "87791dae",
   "metadata": {},
   "outputs": [],
   "source": [
    "https://deploy-flaskclase.herokuapp.com/"
   ]
  },
  {
   "cell_type": "code",
   "execution_count": 6,
   "id": "dd5297ec",
   "metadata": {},
   "outputs": [
    {
     "name": "stdout",
     "output_type": "stream",
     "text": [
      "El paciente corresponde a la clase Diabetes"
     ]
    },
    {
     "name": "stderr",
     "output_type": "stream",
     "text": [
      "  % Total    % Received % Xferd  Average Speed   Time    Time     Time  Current\n",
      "                                 Dload  Upload   Total   Spent    Left  Speed\n",
      "\n",
      "  0     0    0     0    0     0      0      0 --:--:-- --:--:-- --:--:--     0\n",
      "100    85  100    44  100    41     83     77 --:--:-- --:--:-- --:--:--   161\n"
     ]
    },
    {
     "name": "stdout",
     "output_type": "stream",
     "text": [
      "\n"
     ]
    }
   ],
   "source": [
    "!curl -d \"{\\\"Datos\\\":[[6,148,72,35,0,33.6,0.627,50]]}\" -H \"Content-Type: application/json\" -X POST https://deployflask2.herokuapp.com/predecir"
   ]
  },
  {
   "cell_type": "code",
   "execution_count": null,
   "id": "5f9d1b26",
   "metadata": {},
   "outputs": [],
   "source": [
    "curl -d \"{\\\"Pregnancies\\\": 0,\\\"Glucose\\\": 100,\\\"BloodPressure\\\": 80,\\\"SkinThickness\\\": 0,\\\"Insulin\\\": 10,\\\"BMI\\\": 5,\\\"DiabetesPedigreeFunction\\\": 0,\\\"Age\\\": 30}\" -H \"Content-Type: application/json\" -X POST http://127.0.0.1:8000/predict\n"
   ]
  }
 ],
 "metadata": {
  "kernelspec": {
   "display_name": "entornomp",
   "language": "python",
   "name": "entornomp"
  },
  "language_info": {
   "codemirror_mode": {
    "name": "ipython",
    "version": 3
   },
   "file_extension": ".py",
   "mimetype": "text/x-python",
   "name": "python",
   "nbconvert_exporter": "python",
   "pygments_lexer": "ipython3",
   "version": "3.7.10"
  }
 },
 "nbformat": 4,
 "nbformat_minor": 5
}
